{
 "cells": [
  {
   "cell_type": "code",
   "execution_count": 1,
   "id": "b64b076c-bf2e-43b0-92d1-739eb26710ce",
   "metadata": {},
   "outputs": [],
   "source": [
    "#creating a class \n",
    "class Person:\n",
    "    def __init__(self,name,age,hobby): #self acts as a pointer \n",
    "        self.name=name #we initialize name attribute \n",
    "        self.age=age #we initialize age attribute \n",
    "        self.hobby=hobby #we initialize hobby attribute \n",
    "        \n",
    "#creating an object \n",
    "obj1=Person(\"Aashutosh\",99,\"Basketball\")"
   ]
  },
  {
   "cell_type": "code",
   "execution_count": 2,
   "id": "38b3251d-6c62-4abe-a71e-f3c8e8e7d974",
   "metadata": {},
   "outputs": [
    {
     "data": {
      "text/plain": [
       "'Aashutosh'"
      ]
     },
     "execution_count": 2,
     "metadata": {},
     "output_type": "execute_result"
    }
   ],
   "source": [
    "obj1.name"
   ]
  },
  {
   "cell_type": "code",
   "execution_count": 3,
   "id": "dfc7060e-645c-4cdb-9764-c9dfd9115157",
   "metadata": {},
   "outputs": [
    {
     "data": {
      "text/plain": [
       "'Basketball'"
      ]
     },
     "execution_count": 3,
     "metadata": {},
     "output_type": "execute_result"
    }
   ],
   "source": [
    "obj1.hobby"
   ]
  },
  {
   "cell_type": "code",
   "execution_count": 4,
   "id": "e82c43ee-1457-49ff-b34d-342f5a1c0bc0",
   "metadata": {},
   "outputs": [],
   "source": [
    "#creating another object for class Person\n",
    "obj2=Person(\"Meera\",98,\"Singing\")"
   ]
  },
  {
   "cell_type": "code",
   "execution_count": 5,
   "id": "6bf0075c-cbaa-4f56-a02d-36b92cd09236",
   "metadata": {},
   "outputs": [
    {
     "data": {
      "text/plain": [
       "'Singing'"
      ]
     },
     "execution_count": 5,
     "metadata": {},
     "output_type": "execute_result"
    }
   ],
   "source": [
    "obj2.hobby"
   ]
  },
  {
   "cell_type": "code",
   "execution_count": 6,
   "id": "0fe34a69-c9dc-41ae-bec1-3bd6d47e7c84",
   "metadata": {},
   "outputs": [
    {
     "data": {
      "text/plain": [
       "98"
      ]
     },
     "execution_count": 6,
     "metadata": {},
     "output_type": "execute_result"
    }
   ],
   "source": [
    "obj2.age"
   ]
  },
  {
   "cell_type": "markdown",
   "id": "9bfedd39-dc9b-4d53-a1ac-dd0e47034a9e",
   "metadata": {},
   "source": [
    "Create a class 'Car' with attributes like 'name', 'brand', 'color'"
   ]
  },
  {
   "cell_type": "code",
   "execution_count": 7,
   "id": "f82a2fec-854d-426d-b97f-502413111560",
   "metadata": {},
   "outputs": [],
   "source": [
    "class Car:\n",
    "    def __init__(self,name,brand,color):\n",
    "        self.name=name\n",
    "        self.brand=brand\n",
    "        self.color=color\n",
    "#object\n",
    "car1=Car('Scorpio','Mahindra','Black')"
   ]
  },
  {
   "cell_type": "code",
   "execution_count": 8,
   "id": "b10128b0-96b3-43ed-8249-6092d1cfd460",
   "metadata": {},
   "outputs": [
    {
     "data": {
      "text/plain": [
       "'Mahindra'"
      ]
     },
     "execution_count": 8,
     "metadata": {},
     "output_type": "execute_result"
    }
   ],
   "source": [
    "car1.brand"
   ]
  },
  {
   "cell_type": "code",
   "execution_count": 9,
   "id": "f76c5866-a3bf-4d4a-a9dc-fd9c4ad6103c",
   "metadata": {},
   "outputs": [
    {
     "data": {
      "text/plain": [
       "'Scorpio'"
      ]
     },
     "execution_count": 9,
     "metadata": {},
     "output_type": "execute_result"
    }
   ],
   "source": [
    "car1.name"
   ]
  },
  {
   "cell_type": "code",
   "execution_count": 10,
   "id": "b6cc09c9-666e-4a71-99aa-3c65c2c629a7",
   "metadata": {},
   "outputs": [],
   "source": [
    "class Person:\n",
    "    def __init__(self,name,age,salary):\n",
    "        self.name=name #public attribute \n",
    "        self.age=age #public attribute \n",
    "        self.__salary=salary #we can keep this as a private attribute by using .__\n",
    "        \n",
    "    #we create a separate method to call the private attribute\n",
    "    def salary(self):\n",
    "        print(self.__salary)\n",
    "        \n",
    "obj1=Person(\"Meera\",98,80000)"
   ]
  },
  {
   "cell_type": "code",
   "execution_count": 11,
   "id": "7e10ffc3-e24c-4f2d-9722-5f251659436a",
   "metadata": {},
   "outputs": [
    {
     "data": {
      "text/plain": [
       "'Meera'"
      ]
     },
     "execution_count": 11,
     "metadata": {},
     "output_type": "execute_result"
    }
   ],
   "source": [
    "obj1.name"
   ]
  },
  {
   "cell_type": "code",
   "execution_count": 12,
   "id": "40e36e45-0654-46d2-a231-50dbf912ff3e",
   "metadata": {},
   "outputs": [
    {
     "data": {
      "text/plain": [
       "98"
      ]
     },
     "execution_count": 12,
     "metadata": {},
     "output_type": "execute_result"
    }
   ],
   "source": [
    "obj1.age"
   ]
  },
  {
   "cell_type": "code",
   "execution_count": 13,
   "id": "10c045fa-9f30-464e-a052-54ea94327eac",
   "metadata": {},
   "outputs": [
    {
     "data": {
      "text/plain": [
       "<bound method Person.salary of <__main__.Person object at 0x0000018219F73990>>"
      ]
     },
     "execution_count": 13,
     "metadata": {},
     "output_type": "execute_result"
    }
   ],
   "source": [
    "obj1.salary"
   ]
  },
  {
   "cell_type": "code",
   "execution_count": 14,
   "id": "33d60b19-0bba-457d-9b8b-a468c18773fc",
   "metadata": {},
   "outputs": [
    {
     "name": "stdout",
     "output_type": "stream",
     "text": [
      "80000\n"
     ]
    }
   ],
   "source": [
    "obj1.salary()"
   ]
  },
  {
   "cell_type": "markdown",
   "id": "3c263b92-2b1e-4c33-82c7-e9a354338937",
   "metadata": {},
   "source": [
    "Create a class 'BankAccount' which takes two attributes 'A/c number' and 'PIN'. Make 'PIN' as your private attribute and fetch the 'PIN' using a separate method"
   ]
  },
  {
   "cell_type": "code",
   "execution_count": 15,
   "id": "b93b5ab5-eac1-49af-8117-524e314b4388",
   "metadata": {},
   "outputs": [],
   "source": [
    "class BankAccount:\n",
    "    def __init__(self,acc_no,pin):\n",
    "        self.acc_no=acc_no\n",
    "        self.__pin=pin\n",
    "\n",
    "    def pin(self):\n",
    "        print(self.__pin)"
   ]
  },
  {
   "cell_type": "code",
   "execution_count": 19,
   "id": "800d0881-34c4-44af-939f-bba202720282",
   "metadata": {},
   "outputs": [],
   "source": [
    "obj1=BankAccount(1234567,7883)"
   ]
  },
  {
   "cell_type": "code",
   "execution_count": 20,
   "id": "f5a03296-4003-41c2-a162-4edfdfd9fa2d",
   "metadata": {},
   "outputs": [
    {
     "data": {
      "text/plain": [
       "1234567"
      ]
     },
     "execution_count": 20,
     "metadata": {},
     "output_type": "execute_result"
    }
   ],
   "source": [
    "obj1.acc_no"
   ]
  },
  {
   "cell_type": "code",
   "execution_count": 25,
   "id": "9370b8e8-ac75-4aa3-b273-b237055e308c",
   "metadata": {},
   "outputs": [
    {
     "ename": "AttributeError",
     "evalue": "'BankAccount' object has no attribute '__pin'",
     "output_type": "error",
     "traceback": [
      "\u001b[1;31m---------------------------------------------------------------------------\u001b[0m",
      "\u001b[1;31mAttributeError\u001b[0m                            Traceback (most recent call last)",
      "Cell \u001b[1;32mIn[25], line 1\u001b[0m\n\u001b[1;32m----> 1\u001b[0m obj1\u001b[38;5;241m.\u001b[39m__pin\n",
      "\u001b[1;31mAttributeError\u001b[0m: 'BankAccount' object has no attribute '__pin'"
     ]
    }
   ],
   "source": [
    "obj1.__pin"
   ]
  },
  {
   "cell_type": "code",
   "execution_count": 22,
   "id": "c9fb6134-49e5-4a71-8425-20868a9e60ff",
   "metadata": {},
   "outputs": [
    {
     "name": "stdout",
     "output_type": "stream",
     "text": [
      "7883\n"
     ]
    }
   ],
   "source": [
    "obj1.pin()"
   ]
  },
  {
   "cell_type": "markdown",
   "id": "7b020114-9ef6-463c-96c5-a08f0c0da850",
   "metadata": {},
   "source": [
    "Inheritance \n",
    "\n",
    "- Simple Inheritance\n",
    "- Multilevel Inheritance\n",
    "- Multiple Inheritance"
   ]
  },
  {
   "cell_type": "code",
   "execution_count": 26,
   "id": "65ed52db-3764-43b2-91d5-3f51745db80f",
   "metadata": {},
   "outputs": [],
   "source": [
    "#Simple Inheritance\n",
    "class Animal: #Parent class\n",
    "\n",
    "    def __init__(self,name):\n",
    "        self.name=name\n",
    "    def eat(self):\n",
    "        print(self.name+\"animal likes to eat\")\n",
    "\n",
    "class Dog(Animal):#Child class\n",
    "\n",
    "    def __init__(self,name,breed):\n",
    "        Animal.__init__(self,name)\n",
    "        self.breed=breed"
   ]
  },
  {
   "cell_type": "code",
   "execution_count": 27,
   "id": "fc80561c-f2a7-4050-8fbf-c5e15a2fdadb",
   "metadata": {},
   "outputs": [],
   "source": [
    "obj1=Dog('Spike','Dobberman')"
   ]
  },
  {
   "cell_type": "code",
   "execution_count": 28,
   "id": "759727a2-305d-468a-922f-a81ce8ff1b4c",
   "metadata": {},
   "outputs": [
    {
     "data": {
      "text/plain": [
       "'Spike'"
      ]
     },
     "execution_count": 28,
     "metadata": {},
     "output_type": "execute_result"
    }
   ],
   "source": [
    "obj1.name"
   ]
  },
  {
   "cell_type": "code",
   "execution_count": 29,
   "id": "1eba0291-f40e-4e5e-a772-139ffa8f7a02",
   "metadata": {},
   "outputs": [
    {
     "data": {
      "text/plain": [
       "'Dobberman'"
      ]
     },
     "execution_count": 29,
     "metadata": {},
     "output_type": "execute_result"
    }
   ],
   "source": [
    "obj1.breed"
   ]
  },
  {
   "cell_type": "code",
   "execution_count": 30,
   "id": "9002b2b9-baa0-48ef-b601-bb914de6ea18",
   "metadata": {},
   "outputs": [
    {
     "name": "stdout",
     "output_type": "stream",
     "text": [
      "Spikeanimal likes to eat\n"
     ]
    }
   ],
   "source": [
    "obj1.eat()"
   ]
  },
  {
   "cell_type": "code",
   "execution_count": 31,
   "id": "cd9ab208-0586-443d-b9c2-969a7afe10ac",
   "metadata": {},
   "outputs": [],
   "source": [
    "#Simple Inheritance\n",
    "class Animal: #Parent class\n",
    "\n",
    "    def __init__(self,name):\n",
    "        self.name=name\n",
    "    def eat(self):\n",
    "        print(self.name+\"animal likes to eat\")\n",
    "\n",
    "class Dog(Animal):#Child class\n",
    "\n",
    "    def __init__(self,name,breed):\n",
    "        super().__init__(name) #super() will call the __init__ method of the Animal class \n",
    "        self.breed=breed"
   ]
  },
  {
   "cell_type": "code",
   "execution_count": 32,
   "id": "24563a6e-2b0a-4d85-a02d-6dbfc736650e",
   "metadata": {},
   "outputs": [],
   "source": [
    "obj1=Dog('Buddy','GoldenRetriever')"
   ]
  },
  {
   "cell_type": "code",
   "execution_count": 33,
   "id": "4ab52912-a612-4af6-b0de-b3b88a273d52",
   "metadata": {},
   "outputs": [
    {
     "data": {
      "text/plain": [
       "'GoldenRetriever'"
      ]
     },
     "execution_count": 33,
     "metadata": {},
     "output_type": "execute_result"
    }
   ],
   "source": [
    "obj1.breed"
   ]
  },
  {
   "cell_type": "code",
   "execution_count": 34,
   "id": "439072d3-9b7e-4f6c-8fe3-dad8496f4f7a",
   "metadata": {},
   "outputs": [
    {
     "name": "stdout",
     "output_type": "stream",
     "text": [
      "Buddyanimal likes to eat\n"
     ]
    }
   ],
   "source": [
    "obj1.eat()"
   ]
  },
  {
   "cell_type": "code",
   "execution_count": 35,
   "id": "65aecbad-6418-4ed2-9814-b50da9d6ff05",
   "metadata": {},
   "outputs": [],
   "source": [
    "#Multi level Inheritance\n",
    "class Animal: #Parent class of Dog\n",
    "\n",
    "    def __init__(self,name):\n",
    "        self.name=name\n",
    "    def eat(self):\n",
    "        print(self.name+\"animal likes to eat\")\n",
    "\n",
    "class Dog(Animal):#Child class of Animal and Parent class of Pet\n",
    "\n",
    "    def __init__(self,name,breed):\n",
    "        super().__init__(name) #super() will call the __init__ method of the Animal class \n",
    "        self.breed=breed\n",
    "\n",
    "class Pet(Dog):#Child class of Dog\n",
    "\n",
    "    def __init__(self,name,breed,ownername):\n",
    "        super().__init__(name,breed)\n",
    "        self.ownername=ownername"
   ]
  },
  {
   "cell_type": "code",
   "execution_count": 36,
   "id": "9f8b8152-4735-4347-b267-a5bb3fe5dccd",
   "metadata": {},
   "outputs": [],
   "source": [
    "p1=Pet('Buddy','GoldenRetriever','Aashutosh')"
   ]
  },
  {
   "cell_type": "code",
   "execution_count": 37,
   "id": "c96c0f0e-63f7-4c5f-b1a6-03d01f338806",
   "metadata": {},
   "outputs": [
    {
     "data": {
      "text/plain": [
       "'GoldenRetriever'"
      ]
     },
     "execution_count": 37,
     "metadata": {},
     "output_type": "execute_result"
    }
   ],
   "source": [
    "p1.breed #breed has been inherited from Dog class directly"
   ]
  },
  {
   "cell_type": "code",
   "execution_count": 38,
   "id": "743185ed-5750-4844-baf8-967ed029745b",
   "metadata": {},
   "outputs": [
    {
     "data": {
      "text/plain": [
       "'Buddy'"
      ]
     },
     "execution_count": 38,
     "metadata": {},
     "output_type": "execute_result"
    }
   ],
   "source": [
    "p1.name #name has been inherited from Animal class via Dog class"
   ]
  },
  {
   "cell_type": "code",
   "execution_count": 39,
   "id": "f0806c1c-2910-4932-9ba3-17e3d181eb15",
   "metadata": {},
   "outputs": [
    {
     "data": {
      "text/plain": [
       "'Aashutosh'"
      ]
     },
     "execution_count": 39,
     "metadata": {},
     "output_type": "execute_result"
    }
   ],
   "source": [
    "p1.ownername"
   ]
  },
  {
   "cell_type": "code",
   "execution_count": 40,
   "id": "c98ccb80-66ca-422b-a38f-bed6988b79c9",
   "metadata": {},
   "outputs": [
    {
     "name": "stdout",
     "output_type": "stream",
     "text": [
      "Buddyanimal likes to eat\n"
     ]
    }
   ],
   "source": [
    "p1.eat()"
   ]
  },
  {
   "cell_type": "code",
   "execution_count": 46,
   "id": "de7bc3e2-dc3a-4f44-9870-880d1fdd520d",
   "metadata": {},
   "outputs": [],
   "source": [
    "class Vehicle: #Parent class of Vehicle\n",
    "    def __init__(self, brand) :\n",
    "        self.brand=brand\n",
    "    def Disel(self):\n",
    "        print(self.brand+\"car need Disel\")\n",
    " \n",
    "class car(Vehicle) :\n",
    "    def __init__(self, brand, model) :\n",
    "        super().__init__(brand) \n",
    "        self.model=model\n",
    "        \n",
    "class Sportscar(car):\n",
    "    def __init__(self, brand,model,colour,doors) :\n",
    "        super().__init__(brand,model)\n",
    "        self.colour=colour\n",
    "        self.doors=doors"
   ]
  },
  {
   "cell_type": "code",
   "execution_count": 47,
   "id": "ccc24372-1f7a-47e7-841e-797361af7bb9",
   "metadata": {},
   "outputs": [],
   "source": [
    "obj=Sportscar('Ferrari','A26','Red',2)"
   ]
  },
  {
   "cell_type": "code",
   "execution_count": 48,
   "id": "a90c5e52-7c8d-4acb-b74d-5cf747bc018e",
   "metadata": {},
   "outputs": [
    {
     "data": {
      "text/plain": [
       "2"
      ]
     },
     "execution_count": 48,
     "metadata": {},
     "output_type": "execute_result"
    }
   ],
   "source": [
    "obj.doors"
   ]
  },
  {
   "cell_type": "code",
   "execution_count": 49,
   "id": "d26f81fd-c192-45f4-846c-7220a3c49792",
   "metadata": {},
   "outputs": [
    {
     "data": {
      "text/plain": [
       "'Ferrari'"
      ]
     },
     "execution_count": 49,
     "metadata": {},
     "output_type": "execute_result"
    }
   ],
   "source": [
    "obj.brand"
   ]
  },
  {
   "cell_type": "code",
   "execution_count": 50,
   "id": "b9862d32-3419-4ee2-86a8-2cb502f90e46",
   "metadata": {},
   "outputs": [
    {
     "data": {
      "text/plain": [
       "'A26'"
      ]
     },
     "execution_count": 50,
     "metadata": {},
     "output_type": "execute_result"
    }
   ],
   "source": [
    "obj.model"
   ]
  },
  {
   "cell_type": "code",
   "execution_count": 51,
   "id": "3926c20f-b1fc-4e63-883c-580422f7d3df",
   "metadata": {},
   "outputs": [
    {
     "name": "stdout",
     "output_type": "stream",
     "text": [
      "Ferraricar need Disel\n"
     ]
    }
   ],
   "source": [
    "obj.Disel()"
   ]
  },
  {
   "cell_type": "code",
   "execution_count": 20,
   "id": "bc5f8c10-263c-4472-8b48-158e012a8d34",
   "metadata": {},
   "outputs": [],
   "source": [
    "#Multiple Inheritance \n",
    "class A: #parent class \n",
    "    def method(self):\n",
    "        print(\"Hello from A\")\n",
    "\n",
    "class B: #parent class \n",
    "    def method(self):\n",
    "        print(\"Hello from B\")\n",
    "\n",
    "class C(A,B): #child class of both A and B\n",
    "    def method_1(self):\n",
    "        print(\"Hello from the Child\")"
   ]
  },
  {
   "cell_type": "code",
   "execution_count": 21,
   "id": "9b0b94eb-3fb5-4c3f-bc60-2a68fdfcf51d",
   "metadata": {},
   "outputs": [],
   "source": [
    "c=C() #c is an object of class C"
   ]
  },
  {
   "cell_type": "code",
   "execution_count": 22,
   "id": "737ab3c2-3391-422a-b066-1bb7f5f65649",
   "metadata": {},
   "outputs": [
    {
     "name": "stdout",
     "output_type": "stream",
     "text": [
      "Hello from A\n"
     ]
    }
   ],
   "source": [
    "c.method()"
   ]
  },
  {
   "cell_type": "code",
   "execution_count": 23,
   "id": "d6478c3a-0a64-4fcd-9b06-7887d5bcdcf3",
   "metadata": {},
   "outputs": [
    {
     "name": "stdout",
     "output_type": "stream",
     "text": [
      "Hello from A\n"
     ]
    }
   ],
   "source": [
    "c.method() #Hello from A -- only because of MRO "
   ]
  },
  {
   "cell_type": "code",
   "execution_count": 24,
   "id": "74815b02-8614-4e43-8235-99c8259d19bc",
   "metadata": {},
   "outputs": [
    {
     "data": {
      "text/plain": [
       "(__main__.C, __main__.A, __main__.B, object)"
      ]
     },
     "execution_count": 24,
     "metadata": {},
     "output_type": "execute_result"
    }
   ],
   "source": [
    "C.__mro__"
   ]
  },
  {
   "cell_type": "code",
   "execution_count": 34,
   "id": "05dff8d3-ea6a-410a-89b1-1358d266da0b",
   "metadata": {},
   "outputs": [],
   "source": [
    "#Multiple Inheritance \n",
    "\n",
    "class A: #parent class \n",
    "    def method_s(self):\n",
    "        print(\"Hello from A\")\n",
    "\n",
    "class B: #parent class \n",
    "    def method_s(self):\n",
    "        print(\"Hello from B\")\n",
    "\n",
    "class C(B,A): #child class of both A and B\n",
    "    def method_v(self):\n",
    "        print(\"Hello from the Child\")"
   ]
  },
  {
   "cell_type": "code",
   "execution_count": 35,
   "id": "55550014-be78-4b98-ad69-1368e6f99224",
   "metadata": {},
   "outputs": [],
   "source": [
    "c=C()"
   ]
  },
  {
   "cell_type": "code",
   "execution_count": 28,
   "id": "66dd3d6c-df17-468d-bf6b-d10f7d14c981",
   "metadata": {},
   "outputs": [
    {
     "name": "stdout",
     "output_type": "stream",
     "text": [
      "Hello from the Child\n"
     ]
    }
   ],
   "source": [
    "c.method_v()"
   ]
  },
  {
   "cell_type": "code",
   "execution_count": 36,
   "id": "fd7fd007-3a39-4cb3-ab23-cc2dc8413de5",
   "metadata": {},
   "outputs": [
    {
     "name": "stdout",
     "output_type": "stream",
     "text": [
      "Hello from B\n"
     ]
    }
   ],
   "source": [
    "c.method_s()"
   ]
  },
  {
   "cell_type": "markdown",
   "id": "82911be3-330c-4070-9c97-81b56d507167",
   "metadata": {},
   "source": [
    "Polymorphism - many forms"
   ]
  },
  {
   "cell_type": "code",
   "execution_count": 40,
   "id": "6df6af52-9056-4529-bfd6-47e4593ee14c",
   "metadata": {},
   "outputs": [],
   "source": [
    "class Cat:\n",
    "    def sound(self):\n",
    "        print(\"Meow\")\n",
    "        \n",
    "class Dog:\n",
    "    def sound(self):\n",
    "        print(\"Bark\")\n",
    "\n",
    "def animal_sound(animal):\n",
    "    print(animal.sound())"
   ]
  },
  {
   "cell_type": "code",
   "execution_count": 44,
   "id": "e9244d9f-5a6b-49d7-b0e5-1ff318a5c478",
   "metadata": {},
   "outputs": [],
   "source": [
    "cat=Cat()"
   ]
  },
  {
   "cell_type": "code",
   "execution_count": 45,
   "id": "2637581c-8ba3-4118-81c7-d428f872958e",
   "metadata": {},
   "outputs": [],
   "source": [
    "dog=Dog()"
   ]
  },
  {
   "cell_type": "code",
   "execution_count": 46,
   "id": "837042d8-ca5a-4000-b3e2-5444488f97d6",
   "metadata": {},
   "outputs": [
    {
     "name": "stdout",
     "output_type": "stream",
     "text": [
      "Meow\n",
      "None\n"
     ]
    }
   ],
   "source": [
    "animal_sound(cat)"
   ]
  },
  {
   "cell_type": "code",
   "execution_count": 47,
   "id": "8618c943-f3d9-44f0-931a-4e4dea4c722d",
   "metadata": {},
   "outputs": [
    {
     "name": "stdout",
     "output_type": "stream",
     "text": [
      "Bark\n",
      "None\n"
     ]
    }
   ],
   "source": [
    "animal_sound(dog)"
   ]
  },
  {
   "cell_type": "code",
   "execution_count": 48,
   "id": "e7cea6ab-1274-4786-8264-05e0d1ddd7ac",
   "metadata": {},
   "outputs": [],
   "source": [
    "class Animal:\n",
    "    def sound(self):\n",
    "        print(\"Animal Sound\")\n",
    "\n",
    "class Lion(Animal):\n",
    "    def sound(self):\n",
    "        print(\"Roar\")\n",
    "\n",
    "class Bird(Animal):\n",
    "    def sound(self):\n",
    "        print(\"Chirp\")"
   ]
  },
  {
   "cell_type": "code",
   "execution_count": 49,
   "id": "46fa4a50-c2df-40a2-9c50-4497cfbf02bc",
   "metadata": {},
   "outputs": [],
   "source": [
    "lion=Lion()\n",
    "bird=Bird()"
   ]
  },
  {
   "cell_type": "code",
   "execution_count": 50,
   "id": "12cfaced-1eb1-4c15-b4e3-aabb64308ebe",
   "metadata": {},
   "outputs": [
    {
     "name": "stdout",
     "output_type": "stream",
     "text": [
      "Roar\n"
     ]
    }
   ],
   "source": [
    "lion.sound()"
   ]
  },
  {
   "cell_type": "code",
   "execution_count": 51,
   "id": "a6304fab-e5a6-4b66-ac10-84e2626eb427",
   "metadata": {},
   "outputs": [
    {
     "name": "stdout",
     "output_type": "stream",
     "text": [
      "Chirp\n"
     ]
    }
   ],
   "source": [
    "bird.sound()"
   ]
  },
  {
   "cell_type": "markdown",
   "id": "4a195a5d-1c73-4802-b66c-586d26949e9d",
   "metadata": {},
   "source": [
    "Define a Class Car and a Class Bike. Both classes should have a move() method which prints how they move().\n",
    "Write a function that accepts any object and calls the move() method using Polymorphism"
   ]
  },
  {
   "cell_type": "code",
   "execution_count": 57,
   "id": "6789ea7b-fefb-4c45-b1b7-fae273299bce",
   "metadata": {},
   "outputs": [],
   "source": [
    "class Car:\n",
    "    def move(self):\n",
    "        print(\"Car has 4 wheels\")\n",
    "\n",
    "class Bike:\n",
    "    def move(self):\n",
    "        print(\"Bike has 2 wheels\")\n",
    "\n",
    "class Truck:\n",
    "    def move(self):\n",
    "        print(\"Truck has 18 wheels\")\n",
    "\n",
    "def transport(vehicle):\n",
    "    vehicle.move() #move method "
   ]
  },
  {
   "cell_type": "code",
   "execution_count": 53,
   "id": "ab1cc6ec-4506-4d7b-a90c-8ea2660f4ad6",
   "metadata": {},
   "outputs": [],
   "source": [
    "car=Car()"
   ]
  },
  {
   "cell_type": "code",
   "execution_count": 54,
   "id": "fc06f001-39a8-4775-977e-65a1058dae1c",
   "metadata": {},
   "outputs": [],
   "source": [
    "bike=Bike()"
   ]
  },
  {
   "cell_type": "code",
   "execution_count": 55,
   "id": "376198df-6384-47ef-8630-eec1b20488da",
   "metadata": {},
   "outputs": [
    {
     "name": "stdout",
     "output_type": "stream",
     "text": [
      "Bike has 2 wheels\n"
     ]
    }
   ],
   "source": [
    "transport(bike)"
   ]
  },
  {
   "cell_type": "code",
   "execution_count": 56,
   "id": "ae3c0286-484b-45c6-b794-4dd642ecd9ee",
   "metadata": {},
   "outputs": [
    {
     "name": "stdout",
     "output_type": "stream",
     "text": [
      "Car has 4 wheels\n"
     ]
    }
   ],
   "source": [
    "transport(car)"
   ]
  },
  {
   "cell_type": "code",
   "execution_count": 58,
   "id": "ad1f8900-989a-4e7e-9912-f5c4ec31c159",
   "metadata": {},
   "outputs": [],
   "source": [
    "truck=Truck()"
   ]
  },
  {
   "cell_type": "code",
   "execution_count": 59,
   "id": "2cf05758-2ebd-48d6-99fd-b66feca4d1c8",
   "metadata": {},
   "outputs": [
    {
     "name": "stdout",
     "output_type": "stream",
     "text": [
      "Truck has 18 wheels\n"
     ]
    }
   ],
   "source": [
    "transport(truck)"
   ]
  },
  {
   "cell_type": "markdown",
   "id": "f14f13de-0ccd-4bae-a66e-ecc97717453a",
   "metadata": {},
   "source": [
    "Create a class Bird and a class Airplane. Both classes should have fly as a method which prints how they fly.\n",
    "Create a function which works with different objects of different types and gives user an idea of how the objects fly"
   ]
  },
  {
   "cell_type": "markdown",
   "id": "d60a25ca-4c98-4055-b572-46ba773f00e1",
   "metadata": {},
   "source": [
    "Encapsulation"
   ]
  },
  {
   "cell_type": "code",
   "execution_count": 7,
   "id": "8c3f20a3-e682-4ea9-ae00-67aadc535f9f",
   "metadata": {},
   "outputs": [],
   "source": [
    "class BankAccount:\n",
    "    def __init__(self,owner,balance):\n",
    "        self.owner=owner #public attribute \n",
    "        self.__balance=balance #private attribute (are denoted by double underscore)\n",
    "\n",
    "    def deposit(self,amount):\n",
    "        if amount>0:\n",
    "            self.__balance=self.__balance+amount\n",
    "        else:\n",
    "            print(\"Invalid deposit amount\")\n",
    "\n",
    "    def withdraw(self,amount):\n",
    "        if 0<amount<=self.__balance:\n",
    "            self.__balance=self.__balance-amount\n",
    "        else:\n",
    "            print(\"Invalid withdraw amount\")\n",
    "\n",
    "    def get_balance(self):\n",
    "        print(\"your current balance is\",self.__balance)"
   ]
  },
  {
   "cell_type": "code",
   "execution_count": 8,
   "id": "b6730a03-2759-4b97-ba32-94a123894b97",
   "metadata": {},
   "outputs": [],
   "source": [
    "ac=BankAccount('Aashutosh',1000)"
   ]
  },
  {
   "cell_type": "code",
   "execution_count": 9,
   "id": "12fb5cb0-49ca-4346-b4c3-c72566536795",
   "metadata": {},
   "outputs": [
    {
     "data": {
      "text/plain": [
       "'Aashutosh'"
      ]
     },
     "execution_count": 9,
     "metadata": {},
     "output_type": "execute_result"
    }
   ],
   "source": [
    "ac.owner #public attribute "
   ]
  },
  {
   "cell_type": "code",
   "execution_count": 10,
   "id": "a3b06724-4a32-44b0-b4a4-11f7abb7ad75",
   "metadata": {},
   "outputs": [
    {
     "ename": "AttributeError",
     "evalue": "'BankAccount' object has no attribute 'balance'",
     "output_type": "error",
     "traceback": [
      "\u001b[1;31m---------------------------------------------------------------------------\u001b[0m",
      "\u001b[1;31mAttributeError\u001b[0m                            Traceback (most recent call last)",
      "Cell \u001b[1;32mIn[10], line 1\u001b[0m\n\u001b[1;32m----> 1\u001b[0m ac\u001b[38;5;241m.\u001b[39mbalance\n",
      "\u001b[1;31mAttributeError\u001b[0m: 'BankAccount' object has no attribute 'balance'"
     ]
    }
   ],
   "source": [
    "ac.balance #private attribute "
   ]
  },
  {
   "cell_type": "code",
   "execution_count": 11,
   "id": "c5f2eea0-31a7-4950-92d2-3a15bc0cf3c3",
   "metadata": {},
   "outputs": [
    {
     "ename": "AttributeError",
     "evalue": "'BankAccount' object has no attribute '__balance'",
     "output_type": "error",
     "traceback": [
      "\u001b[1;31m---------------------------------------------------------------------------\u001b[0m",
      "\u001b[1;31mAttributeError\u001b[0m                            Traceback (most recent call last)",
      "Cell \u001b[1;32mIn[11], line 1\u001b[0m\n\u001b[1;32m----> 1\u001b[0m ac\u001b[38;5;241m.\u001b[39m__balance\n",
      "\u001b[1;31mAttributeError\u001b[0m: 'BankAccount' object has no attribute '__balance'"
     ]
    }
   ],
   "source": [
    "ac.__balance"
   ]
  },
  {
   "cell_type": "code",
   "execution_count": 12,
   "id": "85dd73d8-7fa8-4edd-bd44-557547cf57f3",
   "metadata": {},
   "outputs": [],
   "source": [
    "ac.deposit(500)"
   ]
  },
  {
   "cell_type": "code",
   "execution_count": 13,
   "id": "df9b578e-5853-479b-9633-65de6a2a6a93",
   "metadata": {},
   "outputs": [
    {
     "name": "stdout",
     "output_type": "stream",
     "text": [
      "your current balance is 1500\n"
     ]
    }
   ],
   "source": [
    "ac.get_balance()"
   ]
  },
  {
   "cell_type": "markdown",
   "id": "eb17fede-9ce2-446e-a08b-0551ff881a03",
   "metadata": {},
   "source": [
    "(Getter - to access and Setter - to modify)methods"
   ]
  },
  {
   "cell_type": "code",
   "execution_count": 1,
   "id": "6b0b2aa6-b021-4107-bdd5-5e32cf8c6456",
   "metadata": {},
   "outputs": [],
   "source": [
    "class Car:\n",
    "    def __init__(self,model,color,price):\n",
    "        self.model=model\n",
    "        self.color=color\n",
    "        self.__price=price #private attribute\n",
    "        \n",
    "    #method for getting the price of this car\n",
    "    def get_price(self):\n",
    "        return self.__price\n",
    "\n",
    "    #method for setting the price of this car\n",
    "    def set_price(self,price):\n",
    "        if price>0:\n",
    "            self.__price=price\n",
    "        else:\n",
    "            print(\"Invalid price\")"
   ]
  },
  {
   "cell_type": "code",
   "execution_count": 2,
   "id": "32f9fca1-2fb8-47ac-abca-f8a254ba6a10",
   "metadata": {},
   "outputs": [],
   "source": [
    "car=Car('Tesla','Red',50000)"
   ]
  },
  {
   "cell_type": "code",
   "execution_count": 3,
   "id": "c7f015f0-d98e-45ba-bf1c-dadb0d919936",
   "metadata": {},
   "outputs": [
    {
     "data": {
      "text/plain": [
       "50000"
      ]
     },
     "execution_count": 3,
     "metadata": {},
     "output_type": "execute_result"
    }
   ],
   "source": [
    "car.get_price() #getter method allows us to access the private attribute "
   ]
  },
  {
   "cell_type": "code",
   "execution_count": 6,
   "id": "9e1dbf0e-c17b-459a-aa58-b06b6e6881c4",
   "metadata": {},
   "outputs": [],
   "source": [
    "car.set_price(100000) #setter method allows us to modify the private attribute "
   ]
  },
  {
   "cell_type": "code",
   "execution_count": 7,
   "id": "14a27916-ae0c-43ae-aa93-04afcee5a8be",
   "metadata": {},
   "outputs": [
    {
     "data": {
      "text/plain": [
       "100000"
      ]
     },
     "execution_count": 7,
     "metadata": {},
     "output_type": "execute_result"
    }
   ],
   "source": [
    "car.get_price()"
   ]
  },
  {
   "cell_type": "markdown",
   "id": "f4010257-16fa-4d4a-9e7b-8c6e17ba7b1c",
   "metadata": {},
   "source": [
    "- Create a class Employee with attributes such as name and salary. \n",
    "- Keep salary as private attribute and create a method to view the private attribute\n",
    "- Create a method to give a raise in salary to the employee if the salary is valid"
   ]
  },
  {
   "cell_type": "code",
   "execution_count": 18,
   "id": "577245e4-56e5-4dc7-962c-2c3d4b1b76d3",
   "metadata": {},
   "outputs": [],
   "source": [
    "class Employee:\n",
    "\n",
    "    def __init__(self,name, salary):\n",
    "        self.name=name\n",
    "        self.__salary=salary\n",
    "\n",
    "    def show_salary(self):\n",
    "        return self.__salary\n",
    "\n",
    "    def raise_salary(self,amount):\n",
    "        if amount>0:\n",
    "            self.__salary+=amount\n",
    "        else:\n",
    "            print(\"invalid salary\")\n"
   ]
  },
  {
   "cell_type": "code",
   "execution_count": 19,
   "id": "174e4668-5717-4af6-abf0-69401f177aa1",
   "metadata": {},
   "outputs": [],
   "source": [
    "emp=Employee('Aashutosh',10000)"
   ]
  },
  {
   "cell_type": "code",
   "execution_count": 20,
   "id": "aff9bb25-008a-4456-8921-8decf678bef1",
   "metadata": {},
   "outputs": [
    {
     "data": {
      "text/plain": [
       "10000"
      ]
     },
     "execution_count": 20,
     "metadata": {},
     "output_type": "execute_result"
    }
   ],
   "source": [
    "emp.show_salary()"
   ]
  },
  {
   "cell_type": "code",
   "execution_count": 21,
   "id": "b0f7ac93-09e9-413e-8fe0-516d4af96732",
   "metadata": {},
   "outputs": [],
   "source": [
    "emp.raise_salary(5000)"
   ]
  },
  {
   "cell_type": "code",
   "execution_count": 22,
   "id": "a91a18c9-9b6f-474a-9679-49758cb34904",
   "metadata": {},
   "outputs": [
    {
     "data": {
      "text/plain": [
       "15000"
      ]
     },
     "execution_count": 22,
     "metadata": {},
     "output_type": "execute_result"
    }
   ],
   "source": [
    "emp.show_salary()"
   ]
  },
  {
   "cell_type": "markdown",
   "id": "de5cffb0-00ca-44a0-a02f-ce68354cd137",
   "metadata": {},
   "source": [
    "Create a class Shopping_Cart which has \n",
    "- a method to add items to the cart, items should be private to us\n",
    "- a method to remove items from the cart\n",
    "- a method to calculate the total cost \n",
    "- a method to access the items "
   ]
  },
  {
   "cell_type": "code",
   "execution_count": 30,
   "id": "389dffdb-42f9-4d68-9671-a33375d16f25",
   "metadata": {},
   "outputs": [],
   "source": [
    "class Shopping_Cart:\n",
    "    def __init__(self):\n",
    "        self.__items={} #private dict that stores items and their price\n",
    "\n",
    "    #method to add an item to the cart\n",
    "    def add_item(self,item,price):\n",
    "        if price>0:\n",
    "            self.__items[item]=price\n",
    "            print(\"added\",item,\"to the cart for\",price)\n",
    "        else:\n",
    "            print(\"Price should be positive\")\n",
    "            \n",
    "    #remove item \n",
    "\n",
    "    #method to calculate the total cost\n",
    "    def total_cost(self):\n",
    "        return sum(self.__items.values()) \n",
    "\n",
    "    #method to access the items\n",
    "    def get_items(self):\n",
    "        return self.__items"
   ]
  },
  {
   "cell_type": "code",
   "execution_count": 31,
   "id": "7ecc212f-c01e-47aa-90e9-f469103b5f17",
   "metadata": {},
   "outputs": [],
   "source": [
    "cart=Shopping_Cart()"
   ]
  },
  {
   "cell_type": "code",
   "execution_count": 32,
   "id": "0d263640-e7d8-4925-bdf4-b20022f4a93b",
   "metadata": {},
   "outputs": [
    {
     "name": "stdout",
     "output_type": "stream",
     "text": [
      "added Laptop to the cart for 1000\n",
      "added Phone to the cart for 1200\n"
     ]
    }
   ],
   "source": [
    "cart.add_item(\"Laptop\",1000)\n",
    "cart.add_item(\"Phone\",1200)"
   ]
  },
  {
   "cell_type": "code",
   "execution_count": 33,
   "id": "dcf221f2-9981-4858-b771-c27d65ed6cd2",
   "metadata": {},
   "outputs": [
    {
     "data": {
      "text/plain": [
       "{'Laptop': 1000, 'Phone': 1200}"
      ]
     },
     "execution_count": 33,
     "metadata": {},
     "output_type": "execute_result"
    }
   ],
   "source": [
    "cart.get_items()"
   ]
  },
  {
   "cell_type": "code",
   "execution_count": 34,
   "id": "067f3ae2-4be5-4b94-af6c-35000be2cca3",
   "metadata": {},
   "outputs": [
    {
     "data": {
      "text/plain": [
       "2200"
      ]
     },
     "execution_count": 34,
     "metadata": {},
     "output_type": "execute_result"
    }
   ],
   "source": [
    "cart.total_cost()"
   ]
  },
  {
   "cell_type": "code",
   "execution_count": null,
   "id": "5b6c97a1-6ace-4595-8c8c-49b7a6a5f3a3",
   "metadata": {},
   "outputs": [],
   "source": []
  }
 ],
 "metadata": {
  "kernelspec": {
   "display_name": "Python 3 (ipykernel)",
   "language": "python",
   "name": "python3"
  },
  "language_info": {
   "codemirror_mode": {
    "name": "ipython",
    "version": 3
   },
   "file_extension": ".py",
   "mimetype": "text/x-python",
   "name": "python",
   "nbconvert_exporter": "python",
   "pygments_lexer": "ipython3",
   "version": "3.11.7"
  }
 },
 "nbformat": 4,
 "nbformat_minor": 5
}
