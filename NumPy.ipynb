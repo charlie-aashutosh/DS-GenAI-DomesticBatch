{
 "cells": [
  {
   "cell_type": "markdown",
   "id": "2c963e03-df2c-4518-8591-2c78ae5b3915",
   "metadata": {},
   "source": [
    "NumPy"
   ]
  },
  {
   "cell_type": "code",
   "execution_count": 2,
   "id": "72711ff0-e6b5-4473-89b8-b0b37aaea72f",
   "metadata": {},
   "outputs": [
    {
     "name": "stdout",
     "output_type": "stream",
     "text": [
      "Requirement already satisfied: numpy in c:\\users\\mdtuf\\anaconda3\\lib\\site-packages (1.26.4)\n",
      "Note: you may need to restart the kernel to use updated packages.\n"
     ]
    }
   ],
   "source": [
    "pip install numpy"
   ]
  },
  {
   "cell_type": "code",
   "execution_count": 2,
   "id": "14c12980-5ef6-425c-ada3-86758ce0236f",
   "metadata": {},
   "outputs": [],
   "source": [
    "import numpy as np #np is the alias name "
   ]
  },
  {
   "cell_type": "code",
   "execution_count": 4,
   "id": "e73703f8-e8d4-4425-8e22-ae5f8f0fbe41",
   "metadata": {},
   "outputs": [],
   "source": [
    "#convert a list -- to an array and then we use NumPy on top of that array\n",
    "my_list=[1,2,3,4,5]"
   ]
  },
  {
   "cell_type": "code",
   "execution_count": 5,
   "id": "bb6521e1-8523-44f4-b1f4-158d115648e2",
   "metadata": {},
   "outputs": [
    {
     "data": {
      "text/plain": [
       "list"
      ]
     },
     "execution_count": 5,
     "metadata": {},
     "output_type": "execute_result"
    }
   ],
   "source": [
    "type(my_list)"
   ]
  },
  {
   "cell_type": "code",
   "execution_count": 6,
   "id": "59bd1188-e052-46b1-92d3-01a5f6ce64f1",
   "metadata": {},
   "outputs": [],
   "source": [
    "my_array=np.array(my_list) #.array() will convert the list into an array"
   ]
  },
  {
   "cell_type": "code",
   "execution_count": 7,
   "id": "a1d1db40-9fc1-4e81-aee1-0102c000defe",
   "metadata": {},
   "outputs": [
    {
     "name": "stdout",
     "output_type": "stream",
     "text": [
      "[1 2 3 4 5]\n"
     ]
    }
   ],
   "source": [
    "print(my_array)"
   ]
  },
  {
   "cell_type": "code",
   "execution_count": 9,
   "id": "2e6a9e3d-345d-4fae-9c41-ec6fac2c0bb6",
   "metadata": {},
   "outputs": [
    {
     "data": {
      "text/plain": [
       "numpy.ndarray"
      ]
     },
     "execution_count": 9,
     "metadata": {},
     "output_type": "execute_result"
    }
   ],
   "source": [
    "type(my_array) #n dimentional array, here n=1 i.e. 1 Dimentional array"
   ]
  },
  {
   "cell_type": "code",
   "execution_count": 10,
   "id": "9980673d-68ee-4d94-90d0-0f8abb2aab9b",
   "metadata": {},
   "outputs": [],
   "source": [
    "#2D array or a nested array\n",
    "my_list_1=[1,2,3,4,5]\n",
    "my_list_2=[3,4,5,0,1]\n",
    "my_list_3=[4,1,0,0,5]\n",
    "\n",
    "new_array=np.array([my_list_1,my_list_2,my_list_3])"
   ]
  },
  {
   "cell_type": "code",
   "execution_count": 13,
   "id": "4d27d657-0364-4fba-9932-eadad987166a",
   "metadata": {},
   "outputs": [
    {
     "name": "stdout",
     "output_type": "stream",
     "text": [
      "[[1 2 3 4 5]\n",
      " [3 4 5 0 1]\n",
      " [4 1 0 0 5]]\n"
     ]
    }
   ],
   "source": [
    "print(new_array) #2d array(matrix) with shape 3,5"
   ]
  },
  {
   "cell_type": "code",
   "execution_count": 14,
   "id": "1d487bf1-d07e-48d9-801c-429ea1d71607",
   "metadata": {},
   "outputs": [
    {
     "data": {
      "text/plain": [
       "(3, 5)"
      ]
     },
     "execution_count": 14,
     "metadata": {},
     "output_type": "execute_result"
    }
   ],
   "source": [
    "new_array.shape #here 3 is the number of rows and 5 is the number of columns"
   ]
  },
  {
   "cell_type": "code",
   "execution_count": 15,
   "id": "24bf0dc9-ff86-4cb8-bf9f-15805efb6862",
   "metadata": {},
   "outputs": [
    {
     "data": {
      "text/plain": [
       "array([[1, 2, 3],\n",
       "       [4, 5, 3],\n",
       "       [4, 5, 0],\n",
       "       [1, 4, 1],\n",
       "       [0, 0, 5]])"
      ]
     },
     "execution_count": 15,
     "metadata": {},
     "output_type": "execute_result"
    }
   ],
   "source": [
    "new_array.reshape(5,3) "
   ]
  },
  {
   "cell_type": "code",
   "execution_count": 16,
   "id": "afb1b270-29d1-48e6-846a-18cbd11b160d",
   "metadata": {},
   "outputs": [
    {
     "ename": "ValueError",
     "evalue": "cannot reshape array of size 15 into shape (5,4)",
     "output_type": "error",
     "traceback": [
      "\u001b[1;31m---------------------------------------------------------------------------\u001b[0m",
      "\u001b[1;31mValueError\u001b[0m                                Traceback (most recent call last)",
      "Cell \u001b[1;32mIn[16], line 1\u001b[0m\n\u001b[1;32m----> 1\u001b[0m new_array\u001b[38;5;241m.\u001b[39mreshape(\u001b[38;5;241m5\u001b[39m,\u001b[38;5;241m4\u001b[39m)\n",
      "\u001b[1;31mValueError\u001b[0m: cannot reshape array of size 15 into shape (5,4)"
     ]
    }
   ],
   "source": [
    "new_array.reshape(5,4)"
   ]
  },
  {
   "cell_type": "code",
   "execution_count": 17,
   "id": "b18eb73e-ce44-4072-b037-8cd2145dc35b",
   "metadata": {},
   "outputs": [
    {
     "data": {
      "text/plain": [
       "array([[1, 2, 3, 4, 5, 3, 4, 5, 0, 1, 4, 1, 0, 0, 5]])"
      ]
     },
     "execution_count": 17,
     "metadata": {},
     "output_type": "execute_result"
    }
   ],
   "source": [
    "new_array.reshape(1,15)"
   ]
  },
  {
   "cell_type": "code",
   "execution_count": 19,
   "id": "a6f524ad-c83d-4aa3-99a4-35b23067e223",
   "metadata": {},
   "outputs": [],
   "source": [
    "arr_new=np.array([[1,2,3,4],[5,6,7,8],[9,10,11,12]])"
   ]
  },
  {
   "cell_type": "code",
   "execution_count": 21,
   "id": "34f80bc2-c779-44c2-a36a-acfc05464a92",
   "metadata": {},
   "outputs": [
    {
     "name": "stdout",
     "output_type": "stream",
     "text": [
      "[[ 1  2  3  4]\n",
      " [ 5  6  7  8]\n",
      " [ 9 10 11 12]]\n"
     ]
    }
   ],
   "source": [
    "print(arr_new)"
   ]
  },
  {
   "cell_type": "code",
   "execution_count": 22,
   "id": "ed2de59c-5952-4570-a226-7d940ec8c596",
   "metadata": {},
   "outputs": [
    {
     "data": {
      "text/plain": [
       "array([[[ 1,  2,  3],\n",
       "        [ 4,  5,  6]],\n",
       "\n",
       "       [[ 7,  8,  9],\n",
       "        [10, 11, 12]]])"
      ]
     },
     "execution_count": 22,
     "metadata": {},
     "output_type": "execute_result"
    }
   ],
   "source": [
    "arr_new.reshape(2,2,3) \n",
    "#first param - the number of matrix we get in the o/p\n",
    "#2nd and 3rd param - the shape of each matrix"
   ]
  },
  {
   "cell_type": "code",
   "execution_count": 23,
   "id": "5958c4ae-1c45-4d79-8bb3-78cc1b844e78",
   "metadata": {},
   "outputs": [
    {
     "data": {
      "text/plain": [
       "array([[[ 1,  2],\n",
       "        [ 3,  4]],\n",
       "\n",
       "       [[ 5,  6],\n",
       "        [ 7,  8]],\n",
       "\n",
       "       [[ 9, 10],\n",
       "        [11, 12]]])"
      ]
     },
     "execution_count": 23,
     "metadata": {},
     "output_type": "execute_result"
    }
   ],
   "source": [
    "arr_new.reshape(3,2,2) "
   ]
  },
  {
   "cell_type": "code",
   "execution_count": 24,
   "id": "736b0910-b50d-4d05-a727-ea6cb1b37c5e",
   "metadata": {},
   "outputs": [
    {
     "data": {
      "text/plain": [
       "array([ 1,  2,  3,  4,  5,  6,  7,  8,  9, 10, 11, 12])"
      ]
     },
     "execution_count": 24,
     "metadata": {},
     "output_type": "execute_result"
    }
   ],
   "source": [
    "arr_new.flatten() "
   ]
  },
  {
   "cell_type": "code",
   "execution_count": 26,
   "id": "4043c3cb-568b-415b-8912-9f3028f864eb",
   "metadata": {},
   "outputs": [
    {
     "data": {
      "text/plain": [
       "array([1, 2, 3, 4, 5, 3, 4, 5, 0, 1, 4, 1, 0, 0, 5])"
      ]
     },
     "execution_count": 26,
     "metadata": {},
     "output_type": "execute_result"
    }
   ],
   "source": [
    "new_array.flatten() "
   ]
  },
  {
   "cell_type": "code",
   "execution_count": 27,
   "id": "2cc1dc5b-d1b1-489d-8166-23b7472fce6f",
   "metadata": {},
   "outputs": [],
   "source": [
    "a=np.array([1,2,3,4,5])"
   ]
  },
  {
   "cell_type": "code",
   "execution_count": 28,
   "id": "39fdc213-68b4-47aa-926c-31635041cc28",
   "metadata": {},
   "outputs": [
    {
     "name": "stdout",
     "output_type": "stream",
     "text": [
      "[1 2 3 4 5]\n"
     ]
    }
   ],
   "source": [
    "print(a)"
   ]
  },
  {
   "cell_type": "code",
   "execution_count": 29,
   "id": "56c064bd-0e92-4e96-ba91-cc7f44d731ef",
   "metadata": {},
   "outputs": [
    {
     "name": "stdout",
     "output_type": "stream",
     "text": [
      "add 1 to each element [2 3 4 5 6]\n",
      "mul 5 to each element [ 5 10 15 20 25]\n",
      "sub 2 from each element [-1  0  1  2  3]\n",
      "divide each element by 2 [0.5 1.  1.5 2.  2.5]\n"
     ]
    }
   ],
   "source": [
    "print(\"add 1 to each element\",a+1)\n",
    "print(\"mul 5 to each element\",a*5)\n",
    "print(\"sub 2 from each element\",a-2)\n",
    "print(\"divide each element by 2\",a/2)"
   ]
  },
  {
   "cell_type": "code",
   "execution_count": 30,
   "id": "4a48e800-63ad-440e-a53c-8bf8eb7a8dfe",
   "metadata": {},
   "outputs": [],
   "source": [
    "new_arr=np.array([[1,5,7],[4,7,2],[3,1,9]])"
   ]
  },
  {
   "cell_type": "code",
   "execution_count": 31,
   "id": "38695189-ebad-43f8-90d1-dd5ee2e66f83",
   "metadata": {},
   "outputs": [
    {
     "name": "stdout",
     "output_type": "stream",
     "text": [
      "[[1 5 7]\n",
      " [4 7 2]\n",
      " [3 1 9]]\n"
     ]
    }
   ],
   "source": [
    "print(new_arr)"
   ]
  },
  {
   "cell_type": "code",
   "execution_count": 33,
   "id": "8048389e-870f-4fd8-8854-d2985d940349",
   "metadata": {},
   "outputs": [
    {
     "name": "stdout",
     "output_type": "stream",
     "text": [
      "largest element from the matrix is 9\n",
      "smallest element from the matrix is 1\n",
      "sum of all the element from the matrix is 39\n"
     ]
    }
   ],
   "source": [
    "print(\"largest element from the matrix is\",new_arr.max())\n",
    "print(\"smallest element from the matrix is\",new_arr.min())\n",
    "print(\"sum of all the element from the matrix is\",new_arr.sum())"
   ]
  },
  {
   "cell_type": "code",
   "execution_count": 36,
   "id": "40bba317-4804-49c9-b6c9-63a1f0720511",
   "metadata": {},
   "outputs": [
    {
     "name": "stdout",
     "output_type": "stream",
     "text": [
      "transpose of the matrix is  [[1 4 3]\n",
      " [5 7 1]\n",
      " [7 2 9]]\n"
     ]
    }
   ],
   "source": [
    "print(\"transpose of the matrix is \", new_arr.T) #T indicates we perform Transpost where rows becomes columns and vice versa"
   ]
  },
  {
   "cell_type": "code",
   "execution_count": 3,
   "id": "5ba2781b-5fec-4212-b2eb-9d073e7d2158",
   "metadata": {},
   "outputs": [],
   "source": [
    "mat_1=np.array([[1,2],[3,4]])\n",
    "mat_2=np.array([[4,3],[2,1]])"
   ]
  },
  {
   "cell_type": "code",
   "execution_count": 6,
   "id": "913069cd-3b8a-4b77-abd3-b7516b80aa16",
   "metadata": {},
   "outputs": [
    {
     "name": "stdout",
     "output_type": "stream",
     "text": [
      "adding the metrics together [[5 5]\n",
      " [5 5]]\n"
     ]
    }
   ],
   "source": [
    "print(\"adding the metrics together\",mat_1+mat_2)"
   ]
  },
  {
   "cell_type": "code",
   "execution_count": 7,
   "id": "38042029-afd9-4c98-91ea-cb650fce82fc",
   "metadata": {},
   "outputs": [
    {
     "name": "stdout",
     "output_type": "stream",
     "text": [
      "multiplication of metrics is [[4 6]\n",
      " [6 4]]\n"
     ]
    }
   ],
   "source": [
    "print(\"multiplication of metrics is\",mat_1*mat_2)"
   ]
  },
  {
   "cell_type": "code",
   "execution_count": 8,
   "id": "e74f5f43-942e-4518-bc2b-9bdce86e2592",
   "metadata": {},
   "outputs": [],
   "source": [
    "#Principal Component Analysis in ML - we extensively make use of eigen values and eigen vectors "
   ]
  },
  {
   "cell_type": "code",
   "execution_count": 9,
   "id": "a219e88c-abac-4c61-96fe-0ec521f03a75",
   "metadata": {},
   "outputs": [
    {
     "name": "stdout",
     "output_type": "stream",
     "text": [
      "EigResult(eigenvalues=array([-0.37228132,  5.37228132]), eigenvectors=array([[-0.82456484, -0.41597356],\n",
      "       [ 0.56576746, -0.90937671]]))\n"
     ]
    }
   ],
   "source": [
    "print(np.linalg.eig(mat_1))"
   ]
  },
  {
   "cell_type": "markdown",
   "id": "6ec63ac1-abcc-406c-9d52-0a060c78c05c",
   "metadata": {},
   "source": [
    "Generating numbers using NumPy\n",
    "\n",
    "- arange()\n",
    "\n",
    "- linspace()\n",
    "\n",
    "- random.rand()\n",
    "\n",
    "- random.randint()"
   ]
  },
  {
   "cell_type": "code",
   "execution_count": 10,
   "id": "4a167e27-f20d-4143-b9e1-47f01c46f730",
   "metadata": {},
   "outputs": [
    {
     "data": {
      "text/plain": [
       "array([1, 2, 3, 4, 5, 6, 7, 8, 9])"
      ]
     },
     "execution_count": 10,
     "metadata": {},
     "output_type": "execute_result"
    }
   ],
   "source": [
    "np.arange(1,10) #here 10 will be exclusive and we get an output from 1 to 9 (equally spaced)"
   ]
  },
  {
   "cell_type": "code",
   "execution_count": 12,
   "id": "480864a5-aa10-48e9-b408-0e016a50b9c3",
   "metadata": {},
   "outputs": [
    {
     "data": {
      "text/plain": [
       "array([ 0,  2,  4,  6,  8, 10, 12, 14])"
      ]
     },
     "execution_count": 12,
     "metadata": {},
     "output_type": "execute_result"
    }
   ],
   "source": [
    "np.arange(0,15,2) #here 2 is the step size  "
   ]
  },
  {
   "cell_type": "code",
   "execution_count": 13,
   "id": "9275a98a-7596-4f8d-a040-fa0d0e479b56",
   "metadata": {},
   "outputs": [
    {
     "data": {
      "text/plain": [
       "array([ 0,  3,  6,  9, 12, 15, 18, 21, 24])"
      ]
     },
     "execution_count": 13,
     "metadata": {},
     "output_type": "execute_result"
    }
   ],
   "source": [
    "np.arange(0,25,3)"
   ]
  },
  {
   "cell_type": "code",
   "execution_count": 14,
   "id": "e08f7f50-262c-4a86-b9e5-80df62a5fa67",
   "metadata": {},
   "outputs": [
    {
     "data": {
      "text/plain": [
       "array([ 1.        ,  1.18367347,  1.36734694,  1.55102041,  1.73469388,\n",
       "        1.91836735,  2.10204082,  2.28571429,  2.46938776,  2.65306122,\n",
       "        2.83673469,  3.02040816,  3.20408163,  3.3877551 ,  3.57142857,\n",
       "        3.75510204,  3.93877551,  4.12244898,  4.30612245,  4.48979592,\n",
       "        4.67346939,  4.85714286,  5.04081633,  5.2244898 ,  5.40816327,\n",
       "        5.59183673,  5.7755102 ,  5.95918367,  6.14285714,  6.32653061,\n",
       "        6.51020408,  6.69387755,  6.87755102,  7.06122449,  7.24489796,\n",
       "        7.42857143,  7.6122449 ,  7.79591837,  7.97959184,  8.16326531,\n",
       "        8.34693878,  8.53061224,  8.71428571,  8.89795918,  9.08163265,\n",
       "        9.26530612,  9.44897959,  9.63265306,  9.81632653, 10.        ])"
      ]
     },
     "execution_count": 14,
     "metadata": {},
     "output_type": "execute_result"
    }
   ],
   "source": [
    "np.linspace(1,10,50) #here 50 is the total number of o/p we need in this range and 10 is not exclusive here"
   ]
  },
  {
   "cell_type": "code",
   "execution_count": 15,
   "id": "ebe3c2c9-7b61-4c15-8692-1e0d67ca7b10",
   "metadata": {},
   "outputs": [
    {
     "data": {
      "text/plain": [
       "array([ 1.        ,  1.09090909,  1.18181818,  1.27272727,  1.36363636,\n",
       "        1.45454545,  1.54545455,  1.63636364,  1.72727273,  1.81818182,\n",
       "        1.90909091,  2.        ,  2.09090909,  2.18181818,  2.27272727,\n",
       "        2.36363636,  2.45454545,  2.54545455,  2.63636364,  2.72727273,\n",
       "        2.81818182,  2.90909091,  3.        ,  3.09090909,  3.18181818,\n",
       "        3.27272727,  3.36363636,  3.45454545,  3.54545455,  3.63636364,\n",
       "        3.72727273,  3.81818182,  3.90909091,  4.        ,  4.09090909,\n",
       "        4.18181818,  4.27272727,  4.36363636,  4.45454545,  4.54545455,\n",
       "        4.63636364,  4.72727273,  4.81818182,  4.90909091,  5.        ,\n",
       "        5.09090909,  5.18181818,  5.27272727,  5.36363636,  5.45454545,\n",
       "        5.54545455,  5.63636364,  5.72727273,  5.81818182,  5.90909091,\n",
       "        6.        ,  6.09090909,  6.18181818,  6.27272727,  6.36363636,\n",
       "        6.45454545,  6.54545455,  6.63636364,  6.72727273,  6.81818182,\n",
       "        6.90909091,  7.        ,  7.09090909,  7.18181818,  7.27272727,\n",
       "        7.36363636,  7.45454545,  7.54545455,  7.63636364,  7.72727273,\n",
       "        7.81818182,  7.90909091,  8.        ,  8.09090909,  8.18181818,\n",
       "        8.27272727,  8.36363636,  8.45454545,  8.54545455,  8.63636364,\n",
       "        8.72727273,  8.81818182,  8.90909091,  9.        ,  9.09090909,\n",
       "        9.18181818,  9.27272727,  9.36363636,  9.45454545,  9.54545455,\n",
       "        9.63636364,  9.72727273,  9.81818182,  9.90909091, 10.        ])"
      ]
     },
     "execution_count": 15,
     "metadata": {},
     "output_type": "execute_result"
    }
   ],
   "source": [
    "np.linspace(1,10,100)"
   ]
  },
  {
   "cell_type": "code",
   "execution_count": 20,
   "id": "baf68c67-fd15-4c8b-b9de-514a58ec437e",
   "metadata": {},
   "outputs": [
    {
     "data": {
      "text/plain": [
       "0.09986767546844566"
      ]
     },
     "execution_count": 20,
     "metadata": {},
     "output_type": "execute_result"
    }
   ],
   "source": [
    "np.random.rand() #gives random value between 0 and 1(being exclusive)\n",
    "#bydefault range is between 0-1"
   ]
  },
  {
   "cell_type": "code",
   "execution_count": 29,
   "id": "907f4ba5-f311-496a-8801-07f03a3d5203",
   "metadata": {},
   "outputs": [
    {
     "data": {
      "text/plain": [
       "array([[0.34684415, 0.80144258, 0.32241137, 0.90598224],\n",
       "       [0.96546202, 0.84236137, 0.6642745 , 0.95534247],\n",
       "       [0.03304905, 0.34663133, 0.0321245 , 0.95198039]])"
      ]
     },
     "execution_count": 29,
     "metadata": {},
     "output_type": "execute_result"
    }
   ],
   "source": [
    "np.random.rand(3,4) #here 3 is the number of rows and 4 is the number of columns "
   ]
  },
  {
   "cell_type": "code",
   "execution_count": 32,
   "id": "ca1de249-1b3e-4d6f-9d23-c18f13e4db2a",
   "metadata": {},
   "outputs": [
    {
     "data": {
      "text/plain": [
       "array([[0.21445384, 0.65530228, 0.12931261, 0.32762244, 0.73809195],\n",
       "       [0.38471184, 0.60353451, 0.69039405, 0.54842349, 0.78679367]])"
      ]
     },
     "execution_count": 32,
     "metadata": {},
     "output_type": "execute_result"
    }
   ],
   "source": [
    "np.random.rand(2,5) #here 2 is the number of rows and 5 is the number of columns"
   ]
  },
  {
   "cell_type": "code",
   "execution_count": 39,
   "id": "bdee81d6-fd5a-4ca9-b73b-35d2d69868c2",
   "metadata": {},
   "outputs": [
    {
     "data": {
      "text/plain": [
       "11"
      ]
     },
     "execution_count": 39,
     "metadata": {},
     "output_type": "execute_result"
    }
   ],
   "source": [
    "np.random.randint(1,20)"
   ]
  },
  {
   "cell_type": "code",
   "execution_count": 49,
   "id": "d8b59222-8fb9-44c8-a52e-ada65018feca",
   "metadata": {},
   "outputs": [
    {
     "data": {
      "text/plain": [
       "array([17,  4, 19, 16,  1])"
      ]
     },
     "execution_count": 49,
     "metadata": {},
     "output_type": "execute_result"
    }
   ],
   "source": [
    "np.random.randint(1,20,5)"
   ]
  },
  {
   "cell_type": "code",
   "execution_count": 46,
   "id": "05461a55-9a92-43e8-8e6d-5b7c83d321a9",
   "metadata": {},
   "outputs": [
    {
     "data": {
      "text/plain": [
       "array([0.84383391, 0.63802781, 0.84951096, 0.42128656, 0.17209532])"
      ]
     },
     "execution_count": 46,
     "metadata": {},
     "output_type": "execute_result"
    }
   ],
   "source": [
    "np.random.rand(5)"
   ]
  },
  {
   "cell_type": "code",
   "execution_count": null,
   "id": "be684ebc-000c-4d2e-b13f-9c5cb69d3392",
   "metadata": {},
   "outputs": [],
   "source": []
  }
 ],
 "metadata": {
  "kernelspec": {
   "display_name": "Python 3 (ipykernel)",
   "language": "python",
   "name": "python3"
  },
  "language_info": {
   "codemirror_mode": {
    "name": "ipython",
    "version": 3
   },
   "file_extension": ".py",
   "mimetype": "text/x-python",
   "name": "python",
   "nbconvert_exporter": "python",
   "pygments_lexer": "ipython3",
   "version": "3.11.7"
  }
 },
 "nbformat": 4,
 "nbformat_minor": 5
}
