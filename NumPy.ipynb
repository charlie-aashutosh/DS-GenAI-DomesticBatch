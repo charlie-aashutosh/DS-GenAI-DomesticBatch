{
 "cells": [
  {
   "cell_type": "markdown",
   "id": "2c963e03-df2c-4518-8591-2c78ae5b3915",
   "metadata": {},
   "source": [
    "NumPy"
   ]
  },
  {
   "cell_type": "code",
   "execution_count": 2,
   "id": "72711ff0-e6b5-4473-89b8-b0b37aaea72f",
   "metadata": {},
   "outputs": [
    {
     "name": "stdout",
     "output_type": "stream",
     "text": [
      "Requirement already satisfied: numpy in c:\\users\\mdtuf\\anaconda3\\lib\\site-packages (1.26.4)\n",
      "Note: you may need to restart the kernel to use updated packages.\n"
     ]
    }
   ],
   "source": [
    "pip install numpy"
   ]
  },
  {
   "cell_type": "code",
   "execution_count": 3,
   "id": "14c12980-5ef6-425c-ada3-86758ce0236f",
   "metadata": {},
   "outputs": [],
   "source": [
    "import numpy as np #np is the alias name "
   ]
  },
  {
   "cell_type": "code",
   "execution_count": 4,
   "id": "e73703f8-e8d4-4425-8e22-ae5f8f0fbe41",
   "metadata": {},
   "outputs": [],
   "source": [
    "#convert a list -- to an array and then we use NumPy on top of that array\n",
    "my_list=[1,2,3,4,5]"
   ]
  },
  {
   "cell_type": "code",
   "execution_count": 5,
   "id": "bb6521e1-8523-44f4-b1f4-158d115648e2",
   "metadata": {},
   "outputs": [
    {
     "data": {
      "text/plain": [
       "list"
      ]
     },
     "execution_count": 5,
     "metadata": {},
     "output_type": "execute_result"
    }
   ],
   "source": [
    "type(my_list)"
   ]
  },
  {
   "cell_type": "code",
   "execution_count": 6,
   "id": "59bd1188-e052-46b1-92d3-01a5f6ce64f1",
   "metadata": {},
   "outputs": [],
   "source": [
    "my_array=np.array(my_list) #.array() will convert the list into an array"
   ]
  },
  {
   "cell_type": "code",
   "execution_count": 7,
   "id": "a1d1db40-9fc1-4e81-aee1-0102c000defe",
   "metadata": {},
   "outputs": [
    {
     "name": "stdout",
     "output_type": "stream",
     "text": [
      "[1 2 3 4 5]\n"
     ]
    }
   ],
   "source": [
    "print(my_array)"
   ]
  },
  {
   "cell_type": "code",
   "execution_count": 9,
   "id": "2e6a9e3d-345d-4fae-9c41-ec6fac2c0bb6",
   "metadata": {},
   "outputs": [
    {
     "data": {
      "text/plain": [
       "numpy.ndarray"
      ]
     },
     "execution_count": 9,
     "metadata": {},
     "output_type": "execute_result"
    }
   ],
   "source": [
    "type(my_array) #n dimentional array, here n=1 i.e. 1 Dimentional array"
   ]
  },
  {
   "cell_type": "code",
   "execution_count": 10,
   "id": "9980673d-68ee-4d94-90d0-0f8abb2aab9b",
   "metadata": {},
   "outputs": [],
   "source": [
    "#2D array or a nested array\n",
    "my_list_1=[1,2,3,4,5]\n",
    "my_list_2=[3,4,5,0,1]\n",
    "my_list_3=[4,1,0,0,5]\n",
    "\n",
    "new_array=np.array([my_list_1,my_list_2,my_list_3])"
   ]
  },
  {
   "cell_type": "code",
   "execution_count": 13,
   "id": "4d27d657-0364-4fba-9932-eadad987166a",
   "metadata": {},
   "outputs": [
    {
     "name": "stdout",
     "output_type": "stream",
     "text": [
      "[[1 2 3 4 5]\n",
      " [3 4 5 0 1]\n",
      " [4 1 0 0 5]]\n"
     ]
    }
   ],
   "source": [
    "print(new_array) #2d array(matrix) with shape 3,5"
   ]
  },
  {
   "cell_type": "code",
   "execution_count": 14,
   "id": "1d487bf1-d07e-48d9-801c-429ea1d71607",
   "metadata": {},
   "outputs": [
    {
     "data": {
      "text/plain": [
       "(3, 5)"
      ]
     },
     "execution_count": 14,
     "metadata": {},
     "output_type": "execute_result"
    }
   ],
   "source": [
    "new_array.shape #here 3 is the number of rows and 5 is the number of columns"
   ]
  },
  {
   "cell_type": "code",
   "execution_count": 15,
   "id": "24bf0dc9-ff86-4cb8-bf9f-15805efb6862",
   "metadata": {},
   "outputs": [
    {
     "data": {
      "text/plain": [
       "array([[1, 2, 3],\n",
       "       [4, 5, 3],\n",
       "       [4, 5, 0],\n",
       "       [1, 4, 1],\n",
       "       [0, 0, 5]])"
      ]
     },
     "execution_count": 15,
     "metadata": {},
     "output_type": "execute_result"
    }
   ],
   "source": [
    "new_array.reshape(5,3) "
   ]
  },
  {
   "cell_type": "code",
   "execution_count": 16,
   "id": "afb1b270-29d1-48e6-846a-18cbd11b160d",
   "metadata": {},
   "outputs": [
    {
     "ename": "ValueError",
     "evalue": "cannot reshape array of size 15 into shape (5,4)",
     "output_type": "error",
     "traceback": [
      "\u001b[1;31m---------------------------------------------------------------------------\u001b[0m",
      "\u001b[1;31mValueError\u001b[0m                                Traceback (most recent call last)",
      "Cell \u001b[1;32mIn[16], line 1\u001b[0m\n\u001b[1;32m----> 1\u001b[0m new_array\u001b[38;5;241m.\u001b[39mreshape(\u001b[38;5;241m5\u001b[39m,\u001b[38;5;241m4\u001b[39m)\n",
      "\u001b[1;31mValueError\u001b[0m: cannot reshape array of size 15 into shape (5,4)"
     ]
    }
   ],
   "source": [
    "new_array.reshape(5,4)"
   ]
  },
  {
   "cell_type": "code",
   "execution_count": 17,
   "id": "b18eb73e-ce44-4072-b037-8cd2145dc35b",
   "metadata": {},
   "outputs": [
    {
     "data": {
      "text/plain": [
       "array([[1, 2, 3, 4, 5, 3, 4, 5, 0, 1, 4, 1, 0, 0, 5]])"
      ]
     },
     "execution_count": 17,
     "metadata": {},
     "output_type": "execute_result"
    }
   ],
   "source": [
    "new_array.reshape(1,15)"
   ]
  },
  {
   "cell_type": "code",
   "execution_count": 19,
   "id": "a6f524ad-c83d-4aa3-99a4-35b23067e223",
   "metadata": {},
   "outputs": [],
   "source": [
    "arr_new=np.array([[1,2,3,4],[5,6,7,8],[9,10,11,12]])"
   ]
  },
  {
   "cell_type": "code",
   "execution_count": 21,
   "id": "34f80bc2-c779-44c2-a36a-acfc05464a92",
   "metadata": {},
   "outputs": [
    {
     "name": "stdout",
     "output_type": "stream",
     "text": [
      "[[ 1  2  3  4]\n",
      " [ 5  6  7  8]\n",
      " [ 9 10 11 12]]\n"
     ]
    }
   ],
   "source": [
    "print(arr_new)"
   ]
  },
  {
   "cell_type": "code",
   "execution_count": 22,
   "id": "ed2de59c-5952-4570-a226-7d940ec8c596",
   "metadata": {},
   "outputs": [
    {
     "data": {
      "text/plain": [
       "array([[[ 1,  2,  3],\n",
       "        [ 4,  5,  6]],\n",
       "\n",
       "       [[ 7,  8,  9],\n",
       "        [10, 11, 12]]])"
      ]
     },
     "execution_count": 22,
     "metadata": {},
     "output_type": "execute_result"
    }
   ],
   "source": [
    "arr_new.reshape(2,2,3) \n",
    "#first param - the number of matrix we get in the o/p\n",
    "#2nd and 3rd param - the shape of each matrix"
   ]
  },
  {
   "cell_type": "code",
   "execution_count": 23,
   "id": "5958c4ae-1c45-4d79-8bb3-78cc1b844e78",
   "metadata": {},
   "outputs": [
    {
     "data": {
      "text/plain": [
       "array([[[ 1,  2],\n",
       "        [ 3,  4]],\n",
       "\n",
       "       [[ 5,  6],\n",
       "        [ 7,  8]],\n",
       "\n",
       "       [[ 9, 10],\n",
       "        [11, 12]]])"
      ]
     },
     "execution_count": 23,
     "metadata": {},
     "output_type": "execute_result"
    }
   ],
   "source": [
    "arr_new.reshape(3,2,2) "
   ]
  },
  {
   "cell_type": "code",
   "execution_count": 24,
   "id": "736b0910-b50d-4d05-a727-ea6cb1b37c5e",
   "metadata": {},
   "outputs": [
    {
     "data": {
      "text/plain": [
       "array([ 1,  2,  3,  4,  5,  6,  7,  8,  9, 10, 11, 12])"
      ]
     },
     "execution_count": 24,
     "metadata": {},
     "output_type": "execute_result"
    }
   ],
   "source": [
    "arr_new.flatten() "
   ]
  },
  {
   "cell_type": "code",
   "execution_count": 26,
   "id": "4043c3cb-568b-415b-8912-9f3028f864eb",
   "metadata": {},
   "outputs": [
    {
     "data": {
      "text/plain": [
       "array([1, 2, 3, 4, 5, 3, 4, 5, 0, 1, 4, 1, 0, 0, 5])"
      ]
     },
     "execution_count": 26,
     "metadata": {},
     "output_type": "execute_result"
    }
   ],
   "source": [
    "new_array.flatten() "
   ]
  },
  {
   "cell_type": "code",
   "execution_count": 27,
   "id": "2cc1dc5b-d1b1-489d-8166-23b7472fce6f",
   "metadata": {},
   "outputs": [],
   "source": [
    "a=np.array([1,2,3,4,5])"
   ]
  },
  {
   "cell_type": "code",
   "execution_count": 28,
   "id": "39fdc213-68b4-47aa-926c-31635041cc28",
   "metadata": {},
   "outputs": [
    {
     "name": "stdout",
     "output_type": "stream",
     "text": [
      "[1 2 3 4 5]\n"
     ]
    }
   ],
   "source": [
    "print(a)"
   ]
  },
  {
   "cell_type": "code",
   "execution_count": 29,
   "id": "56c064bd-0e92-4e96-ba91-cc7f44d731ef",
   "metadata": {},
   "outputs": [
    {
     "name": "stdout",
     "output_type": "stream",
     "text": [
      "add 1 to each element [2 3 4 5 6]\n",
      "mul 5 to each element [ 5 10 15 20 25]\n",
      "sub 2 from each element [-1  0  1  2  3]\n",
      "divide each element by 2 [0.5 1.  1.5 2.  2.5]\n"
     ]
    }
   ],
   "source": [
    "print(\"add 1 to each element\",a+1)\n",
    "print(\"mul 5 to each element\",a*5)\n",
    "print(\"sub 2 from each element\",a-2)\n",
    "print(\"divide each element by 2\",a/2)"
   ]
  },
  {
   "cell_type": "code",
   "execution_count": 30,
   "id": "4a48e800-63ad-440e-a53c-8bf8eb7a8dfe",
   "metadata": {},
   "outputs": [],
   "source": [
    "new_arr=np.array([[1,5,7],[4,7,2],[3,1,9]])"
   ]
  },
  {
   "cell_type": "code",
   "execution_count": 31,
   "id": "38695189-ebad-43f8-90d1-dd5ee2e66f83",
   "metadata": {},
   "outputs": [
    {
     "name": "stdout",
     "output_type": "stream",
     "text": [
      "[[1 5 7]\n",
      " [4 7 2]\n",
      " [3 1 9]]\n"
     ]
    }
   ],
   "source": [
    "print(new_arr)"
   ]
  },
  {
   "cell_type": "code",
   "execution_count": 33,
   "id": "8048389e-870f-4fd8-8854-d2985d940349",
   "metadata": {},
   "outputs": [
    {
     "name": "stdout",
     "output_type": "stream",
     "text": [
      "largest element from the matrix is 9\n",
      "smallest element from the matrix is 1\n",
      "sum of all the element from the matrix is 39\n"
     ]
    }
   ],
   "source": [
    "print(\"largest element from the matrix is\",new_arr.max())\n",
    "print(\"smallest element from the matrix is\",new_arr.min())\n",
    "print(\"sum of all the element from the matrix is\",new_arr.sum())"
   ]
  },
  {
   "cell_type": "code",
   "execution_count": 36,
   "id": "40bba317-4804-49c9-b6c9-63a1f0720511",
   "metadata": {},
   "outputs": [
    {
     "name": "stdout",
     "output_type": "stream",
     "text": [
      "transpose of the matrix is  [[1 4 3]\n",
      " [5 7 1]\n",
      " [7 2 9]]\n"
     ]
    }
   ],
   "source": [
    "print(\"transpose of the matrix is \", new_arr.T) #T indicates we perform Transpost where rows becomes columns and vice versa"
   ]
  },
  {
   "cell_type": "code",
   "execution_count": null,
   "id": "5ba2781b-5fec-4212-b2eb-9d073e7d2158",
   "metadata": {},
   "outputs": [],
   "source": []
  }
 ],
 "metadata": {
  "kernelspec": {
   "display_name": "Python 3 (ipykernel)",
   "language": "python",
   "name": "python3"
  },
  "language_info": {
   "codemirror_mode": {
    "name": "ipython",
    "version": 3
   },
   "file_extension": ".py",
   "mimetype": "text/x-python",
   "name": "python",
   "nbconvert_exporter": "python",
   "pygments_lexer": "ipython3",
   "version": "3.11.7"
  }
 },
 "nbformat": 4,
 "nbformat_minor": 5
}
